{
  "nbformat": 4,
  "nbformat_minor": 0,
  "metadata": {
    "colab": {
      "provenance": [],
      "authorship_tag": "ABX9TyOEGAREcjIPC5qHZDOp11ix",
      "include_colab_link": true
    },
    "kernelspec": {
      "name": "python3",
      "display_name": "Python 3"
    },
    "language_info": {
      "name": "python"
    }
  },
  "cells": [
    {
      "cell_type": "markdown",
      "metadata": {
        "id": "view-in-github",
        "colab_type": "text"
      },
      "source": [
        "<a href=\"https://colab.research.google.com/github/Palak1593/Marks_Adding_/blob/main/Marks_Adding.ipynb\" target=\"_parent\"><img src=\"https://colab.research.google.com/assets/colab-badge.svg\" alt=\"Open In Colab\"/></a>"
      ]
    },
    {
      "cell_type": "code",
      "execution_count": 43,
      "metadata": {
        "colab": {
          "base_uri": "https://localhost:8080/"
        },
        "id": "zf_JUptIieSH",
        "outputId": "28f175fd-ee53-4aa2-f904-6fdf41d058a1"
      },
      "outputs": [
        {
          "output_type": "stream",
          "name": "stdout",
          "text": [
            "102003643:1\n",
            "\n",
            "102003640:3\n",
            "\n",
            "102017134:2\n",
            "\n",
            "102003307:1\n",
            "\n",
            "102003542:1\n",
            "\n",
            "102003315:1\n",
            "\n",
            "102003135:4\n",
            "\n",
            "102003207:1\n",
            "\n",
            "102003362:2\n",
            "\n",
            "102003675:1\n",
            "\n",
            "102003725:1\n",
            "\n"
          ]
        }
      ],
      "source": [
        "file=open(\"input.txt\",\"w\")\n",
        "\n",
        "a=  \"\"\" 102003542: 1,\n",
        "    102003640: 1,\n",
        "    102003725: 1,\n",
        "    102003307: 1,\n",
        "    102003640: 1,\n",
        "    102003643: 1,\n",
        "    102017134: 1,\n",
        "    102003207: 1,\n",
        "    102003315: 1,\n",
        "    102003362: 1,\n",
        "    102003135: 1,\n",
        "    102003640: 1,\n",
        "    102003675: 1,\n",
        "    102003135: 1,\n",
        "    102017134: 1,\n",
        "    102003135: 1,\n",
        "    102003362: 1,\n",
        "    102003135: 1\n",
        "\"\"\"\n",
        "\n",
        "file.write(a)\n",
        "file.close()\n",
        "\n",
        "# Read the input file and calculate the sum of marks\n",
        "total_marks = 0\n",
        "roll_number=[]\n",
        "marks=[]\n",
        "\n",
        "\n",
        "file=open('input.txt','r')\n",
        "file1=open('output.txt','w')\n",
        "\n",
        "for line in file:\n",
        "            line = line.strip()\n",
        "            parts = line.split(\":\")\n",
        "            roll_number.append(parts[0].strip())\n",
        "            marks.append(int(parts[1].strip().rstrip(','))) # Convert marks to integers\n",
        "\n",
        "\n",
        "\n",
        "unique=list(set(roll_number)) #Roll_numbers are sorted to get unique roll_numbers\n",
        "\n",
        "\n",
        "\n",
        "for i in range(len(unique)):\n",
        "\n",
        "  total_marks=0  #Reset total marks for each unique roll number\n",
        "\n",
        "  for j in range(len(roll_number)):\n",
        "     if(unique[i]==roll_number[j]):\n",
        "        total_marks=total_marks+marks[j]\n",
        "  file1.write(str(unique[i]) + \":\" + str(total_marks) + \"\\n\") #Write the total marks to the output file\n",
        "\n",
        "\n",
        "file.close()\n",
        "file1.close()\n",
        "\n",
        "file1=open('output.txt', 'r') # Read and print the output file\n",
        "for line in file1:\n",
        "    print(line)\n",
        "file1.close()"
      ]
    }
  ]
}